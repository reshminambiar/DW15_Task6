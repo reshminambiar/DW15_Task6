{
  "cells": [
    {
      "cell_type": "markdown",
      "metadata": {
        "id": "view-in-github",
        "colab_type": "text"
      },
      "source": [
        "<a href=\"https://colab.research.google.com/github/reshminambiar/DW15_Task6/blob/main/Assignment8_Task6.ipynb\" target=\"_parent\"><img src=\"https://colab.research.google.com/assets/colab-badge.svg\" alt=\"Open In Colab\"/></a>"
      ]
    },
    {
      "cell_type": "markdown",
      "metadata": {
        "id": "jQ7agb0Ewp-B"
      },
      "source": [
        "# Assignment8"
      ]
    },
    {
      "cell_type": "code",
      "execution_count": null,
      "metadata": {
        "collapsed": true,
        "id": "35Pji31Pwp-I"
      },
      "outputs": [],
      "source": [
        "import pandas as pd\n",
        "import matplotlib.pyplot as plt\n",
        "import numpy as np\n",
        "from sklearn import linear_model\n",
        "import seaborn as sns"
      ]
    },
    {
      "cell_type": "markdown",
      "metadata": {
        "id": "ijG_xOEzwp-K"
      },
      "source": [
        "# How Much is Your Car Worth?\n",
        "\n",
        "Data about the retail price of 2005 General Motors cars can be found in `car_data.csv`.\n",
        "\n",
        "The columns are:\n",
        "\n",
        "1. Price: suggested retail price of the used 2005 GM car in excellent condition.\n",
        "2. Mileage: number of miles the car has been driven\n",
        "3. Make: manufacturer of the car such as Saturn, Pontiac, and Chevrolet\n",
        "4. Model: specific models for each car manufacturer such as Ion, Vibe, Cavalier\n",
        "5. Trim (of car): specific type of car model such as SE Sedan 4D, Quad Coupe 2D          \n",
        "6. Type: body type such as sedan, coupe, etc.      \n",
        "7. Cylinder: number of cylinders in the engine        \n",
        "8. Liter: a more specific measure of engine size     \n",
        "9. Doors: number of doors           \n",
        "10. Cruise: indicator variable representing whether the car has cruise control (1 = cruise)\n",
        "11. Sound: indicator variable representing whether the car has upgraded speakers (1 = upgraded)\n",
        "12. Leather: indicator variable representing whether the car has leather seats (1 = leather)\n",
        "\n",
        "## Tasks, Part 1\n",
        "\n",
        "1. Find the linear regression equation for mileage vs price.\n",
        "2. Chart the original data and the equation on the chart.\n",
        "3. Find the equation's $R^2$ score (use the `.score` method) to determine whether the\n",
        "equation is a good fit for this data. (0.8 and greater is considered a strong correlation.)\n",
        "\n",
        "## Tasks, Part 2\n",
        "\n",
        "1. Use mileage, cylinders, liters, doors, cruise, sound, and leather to find the linear regression equation.\n",
        "2. Find the equation's $R^2$ score (use the `.score` method) to determine whether the\n",
        "equation is a good fit for this data. (0.8 and greater is considered a strong correlation.)\n",
        "3. Find the combination of the factors that is the best predictor for price.\n",
        "\n",
        "## Tasks, Hard Mode\n",
        "\n",
        "1. Research dummy variables in scikit-learn to see how to use the make, model, and body type.\n",
        "2. Find the best combination of factors to predict price."
      ]
    },
    {
      "cell_type": "markdown",
      "source": [
        "Reading the file and exploring the data"
      ],
      "metadata": {
        "id": "bVZCHlPEnsr_"
      }
    },
    {
      "cell_type": "code",
      "execution_count": null,
      "metadata": {
        "id": "4L5E0pp1wp-M"
      },
      "outputs": [],
      "source": [
        "df = pd.read_csv(\"car_data.csv\")"
      ]
    },
    {
      "cell_type": "code",
      "source": [
        "df.head()"
      ],
      "metadata": {
        "colab": {
          "base_uri": "https://localhost:8080/",
          "height": 206
        },
        "id": "BGkfVWNkJ2Po",
        "outputId": "2afbc43a-4732-4827-ea57-8794c2fd0eb0"
      },
      "execution_count": null,
      "outputs": [
        {
          "output_type": "execute_result",
          "data": {
            "text/plain": [
              "          Price  Mileage   Make    Model      Trim   Type  Cylinder  Liter  \\\n",
              "0  17314.103129     8221  Buick  Century  Sedan 4D  Sedan         6    3.1   \n",
              "1  17542.036083     9135  Buick  Century  Sedan 4D  Sedan         6    3.1   \n",
              "2  16218.847862    13196  Buick  Century  Sedan 4D  Sedan         6    3.1   \n",
              "3  16336.913140    16342  Buick  Century  Sedan 4D  Sedan         6    3.1   \n",
              "4  16339.170324    19832  Buick  Century  Sedan 4D  Sedan         6    3.1   \n",
              "\n",
              "   Doors  Cruise  Sound  Leather  \n",
              "0      4       1      1        1  \n",
              "1      4       1      1        0  \n",
              "2      4       1      1        0  \n",
              "3      4       1      0        0  \n",
              "4      4       1      0        1  "
            ],
            "text/html": [
              "\n",
              "  <div id=\"df-b93a965b-e91f-41dc-9133-4fbd8c1f3e84\">\n",
              "    <div class=\"colab-df-container\">\n",
              "      <div>\n",
              "<style scoped>\n",
              "    .dataframe tbody tr th:only-of-type {\n",
              "        vertical-align: middle;\n",
              "    }\n",
              "\n",
              "    .dataframe tbody tr th {\n",
              "        vertical-align: top;\n",
              "    }\n",
              "\n",
              "    .dataframe thead th {\n",
              "        text-align: right;\n",
              "    }\n",
              "</style>\n",
              "<table border=\"1\" class=\"dataframe\">\n",
              "  <thead>\n",
              "    <tr style=\"text-align: right;\">\n",
              "      <th></th>\n",
              "      <th>Price</th>\n",
              "      <th>Mileage</th>\n",
              "      <th>Make</th>\n",
              "      <th>Model</th>\n",
              "      <th>Trim</th>\n",
              "      <th>Type</th>\n",
              "      <th>Cylinder</th>\n",
              "      <th>Liter</th>\n",
              "      <th>Doors</th>\n",
              "      <th>Cruise</th>\n",
              "      <th>Sound</th>\n",
              "      <th>Leather</th>\n",
              "    </tr>\n",
              "  </thead>\n",
              "  <tbody>\n",
              "    <tr>\n",
              "      <th>0</th>\n",
              "      <td>17314.103129</td>\n",
              "      <td>8221</td>\n",
              "      <td>Buick</td>\n",
              "      <td>Century</td>\n",
              "      <td>Sedan 4D</td>\n",
              "      <td>Sedan</td>\n",
              "      <td>6</td>\n",
              "      <td>3.1</td>\n",
              "      <td>4</td>\n",
              "      <td>1</td>\n",
              "      <td>1</td>\n",
              "      <td>1</td>\n",
              "    </tr>\n",
              "    <tr>\n",
              "      <th>1</th>\n",
              "      <td>17542.036083</td>\n",
              "      <td>9135</td>\n",
              "      <td>Buick</td>\n",
              "      <td>Century</td>\n",
              "      <td>Sedan 4D</td>\n",
              "      <td>Sedan</td>\n",
              "      <td>6</td>\n",
              "      <td>3.1</td>\n",
              "      <td>4</td>\n",
              "      <td>1</td>\n",
              "      <td>1</td>\n",
              "      <td>0</td>\n",
              "    </tr>\n",
              "    <tr>\n",
              "      <th>2</th>\n",
              "      <td>16218.847862</td>\n",
              "      <td>13196</td>\n",
              "      <td>Buick</td>\n",
              "      <td>Century</td>\n",
              "      <td>Sedan 4D</td>\n",
              "      <td>Sedan</td>\n",
              "      <td>6</td>\n",
              "      <td>3.1</td>\n",
              "      <td>4</td>\n",
              "      <td>1</td>\n",
              "      <td>1</td>\n",
              "      <td>0</td>\n",
              "    </tr>\n",
              "    <tr>\n",
              "      <th>3</th>\n",
              "      <td>16336.913140</td>\n",
              "      <td>16342</td>\n",
              "      <td>Buick</td>\n",
              "      <td>Century</td>\n",
              "      <td>Sedan 4D</td>\n",
              "      <td>Sedan</td>\n",
              "      <td>6</td>\n",
              "      <td>3.1</td>\n",
              "      <td>4</td>\n",
              "      <td>1</td>\n",
              "      <td>0</td>\n",
              "      <td>0</td>\n",
              "    </tr>\n",
              "    <tr>\n",
              "      <th>4</th>\n",
              "      <td>16339.170324</td>\n",
              "      <td>19832</td>\n",
              "      <td>Buick</td>\n",
              "      <td>Century</td>\n",
              "      <td>Sedan 4D</td>\n",
              "      <td>Sedan</td>\n",
              "      <td>6</td>\n",
              "      <td>3.1</td>\n",
              "      <td>4</td>\n",
              "      <td>1</td>\n",
              "      <td>0</td>\n",
              "      <td>1</td>\n",
              "    </tr>\n",
              "  </tbody>\n",
              "</table>\n",
              "</div>\n",
              "      <button class=\"colab-df-convert\" onclick=\"convertToInteractive('df-b93a965b-e91f-41dc-9133-4fbd8c1f3e84')\"\n",
              "              title=\"Convert this dataframe to an interactive table.\"\n",
              "              style=\"display:none;\">\n",
              "        \n",
              "  <svg xmlns=\"http://www.w3.org/2000/svg\" height=\"24px\"viewBox=\"0 0 24 24\"\n",
              "       width=\"24px\">\n",
              "    <path d=\"M0 0h24v24H0V0z\" fill=\"none\"/>\n",
              "    <path d=\"M18.56 5.44l.94 2.06.94-2.06 2.06-.94-2.06-.94-.94-2.06-.94 2.06-2.06.94zm-11 1L8.5 8.5l.94-2.06 2.06-.94-2.06-.94L8.5 2.5l-.94 2.06-2.06.94zm10 10l.94 2.06.94-2.06 2.06-.94-2.06-.94-.94-2.06-.94 2.06-2.06.94z\"/><path d=\"M17.41 7.96l-1.37-1.37c-.4-.4-.92-.59-1.43-.59-.52 0-1.04.2-1.43.59L10.3 9.45l-7.72 7.72c-.78.78-.78 2.05 0 2.83L4 21.41c.39.39.9.59 1.41.59.51 0 1.02-.2 1.41-.59l7.78-7.78 2.81-2.81c.8-.78.8-2.07 0-2.86zM5.41 20L4 18.59l7.72-7.72 1.47 1.35L5.41 20z\"/>\n",
              "  </svg>\n",
              "      </button>\n",
              "      \n",
              "  <style>\n",
              "    .colab-df-container {\n",
              "      display:flex;\n",
              "      flex-wrap:wrap;\n",
              "      gap: 12px;\n",
              "    }\n",
              "\n",
              "    .colab-df-convert {\n",
              "      background-color: #E8F0FE;\n",
              "      border: none;\n",
              "      border-radius: 50%;\n",
              "      cursor: pointer;\n",
              "      display: none;\n",
              "      fill: #1967D2;\n",
              "      height: 32px;\n",
              "      padding: 0 0 0 0;\n",
              "      width: 32px;\n",
              "    }\n",
              "\n",
              "    .colab-df-convert:hover {\n",
              "      background-color: #E2EBFA;\n",
              "      box-shadow: 0px 1px 2px rgba(60, 64, 67, 0.3), 0px 1px 3px 1px rgba(60, 64, 67, 0.15);\n",
              "      fill: #174EA6;\n",
              "    }\n",
              "\n",
              "    [theme=dark] .colab-df-convert {\n",
              "      background-color: #3B4455;\n",
              "      fill: #D2E3FC;\n",
              "    }\n",
              "\n",
              "    [theme=dark] .colab-df-convert:hover {\n",
              "      background-color: #434B5C;\n",
              "      box-shadow: 0px 1px 3px 1px rgba(0, 0, 0, 0.15);\n",
              "      filter: drop-shadow(0px 1px 2px rgba(0, 0, 0, 0.3));\n",
              "      fill: #FFFFFF;\n",
              "    }\n",
              "  </style>\n",
              "\n",
              "      <script>\n",
              "        const buttonEl =\n",
              "          document.querySelector('#df-b93a965b-e91f-41dc-9133-4fbd8c1f3e84 button.colab-df-convert');\n",
              "        buttonEl.style.display =\n",
              "          google.colab.kernel.accessAllowed ? 'block' : 'none';\n",
              "\n",
              "        async function convertToInteractive(key) {\n",
              "          const element = document.querySelector('#df-b93a965b-e91f-41dc-9133-4fbd8c1f3e84');\n",
              "          const dataTable =\n",
              "            await google.colab.kernel.invokeFunction('convertToInteractive',\n",
              "                                                     [key], {});\n",
              "          if (!dataTable) return;\n",
              "\n",
              "          const docLinkHtml = 'Like what you see? Visit the ' +\n",
              "            '<a target=\"_blank\" href=https://colab.research.google.com/notebooks/data_table.ipynb>data table notebook</a>'\n",
              "            + ' to learn more about interactive tables.';\n",
              "          element.innerHTML = '';\n",
              "          dataTable['output_type'] = 'display_data';\n",
              "          await google.colab.output.renderOutput(dataTable, element);\n",
              "          const docLink = document.createElement('div');\n",
              "          docLink.innerHTML = docLinkHtml;\n",
              "          element.appendChild(docLink);\n",
              "        }\n",
              "      </script>\n",
              "    </div>\n",
              "  </div>\n",
              "  "
            ]
          },
          "metadata": {},
          "execution_count": 3
        }
      ]
    },
    {
      "cell_type": "code",
      "source": [
        "df.shape"
      ],
      "metadata": {
        "colab": {
          "base_uri": "https://localhost:8080/"
        },
        "id": "TjCNiPDUJ3ev",
        "outputId": "63e70096-0fcd-42f9-f8b5-eb1f9077da60"
      },
      "execution_count": null,
      "outputs": [
        {
          "output_type": "execute_result",
          "data": {
            "text/plain": [
              "(804, 12)"
            ]
          },
          "metadata": {},
          "execution_count": 4
        }
      ]
    },
    {
      "cell_type": "code",
      "source": [
        "df.info()"
      ],
      "metadata": {
        "colab": {
          "base_uri": "https://localhost:8080/"
        },
        "id": "kVBUPOO5KCd5",
        "outputId": "1d6b1b5c-3bf4-47e7-a401-2f3f4f9bf9e1"
      },
      "execution_count": null,
      "outputs": [
        {
          "output_type": "stream",
          "name": "stdout",
          "text": [
            "<class 'pandas.core.frame.DataFrame'>\n",
            "RangeIndex: 804 entries, 0 to 803\n",
            "Data columns (total 12 columns):\n",
            " #   Column    Non-Null Count  Dtype  \n",
            "---  ------    --------------  -----  \n",
            " 0   Price     804 non-null    float64\n",
            " 1   Mileage   804 non-null    int64  \n",
            " 2   Make      804 non-null    object \n",
            " 3   Model     804 non-null    object \n",
            " 4   Trim      804 non-null    object \n",
            " 5   Type      804 non-null    object \n",
            " 6   Cylinder  804 non-null    int64  \n",
            " 7   Liter     804 non-null    float64\n",
            " 8   Doors     804 non-null    int64  \n",
            " 9   Cruise    804 non-null    int64  \n",
            " 10  Sound     804 non-null    int64  \n",
            " 11  Leather   804 non-null    int64  \n",
            "dtypes: float64(2), int64(6), object(4)\n",
            "memory usage: 75.5+ KB\n"
          ]
        }
      ]
    },
    {
      "cell_type": "code",
      "source": [
        "df[['Liter','Mileage']].describe()"
      ],
      "metadata": {
        "colab": {
          "base_uri": "https://localhost:8080/",
          "height": 300
        },
        "id": "arMS_-z8Lr0J",
        "outputId": "b79486bd-bd51-43a5-b4d5-c84fe088575d"
      },
      "execution_count": null,
      "outputs": [
        {
          "output_type": "execute_result",
          "data": {
            "text/plain": [
              "            Liter       Mileage\n",
              "count  804.000000    804.000000\n",
              "mean     3.037313  19831.934080\n",
              "std      1.105562   8196.319707\n",
              "min      1.600000    266.000000\n",
              "25%      2.200000  14623.500000\n",
              "50%      2.800000  20913.500000\n",
              "75%      3.800000  25213.000000\n",
              "max      6.000000  50387.000000"
            ],
            "text/html": [
              "\n",
              "  <div id=\"df-8d23a3f5-1282-4093-9618-18a071fd25a5\">\n",
              "    <div class=\"colab-df-container\">\n",
              "      <div>\n",
              "<style scoped>\n",
              "    .dataframe tbody tr th:only-of-type {\n",
              "        vertical-align: middle;\n",
              "    }\n",
              "\n",
              "    .dataframe tbody tr th {\n",
              "        vertical-align: top;\n",
              "    }\n",
              "\n",
              "    .dataframe thead th {\n",
              "        text-align: right;\n",
              "    }\n",
              "</style>\n",
              "<table border=\"1\" class=\"dataframe\">\n",
              "  <thead>\n",
              "    <tr style=\"text-align: right;\">\n",
              "      <th></th>\n",
              "      <th>Liter</th>\n",
              "      <th>Mileage</th>\n",
              "    </tr>\n",
              "  </thead>\n",
              "  <tbody>\n",
              "    <tr>\n",
              "      <th>count</th>\n",
              "      <td>804.000000</td>\n",
              "      <td>804.000000</td>\n",
              "    </tr>\n",
              "    <tr>\n",
              "      <th>mean</th>\n",
              "      <td>3.037313</td>\n",
              "      <td>19831.934080</td>\n",
              "    </tr>\n",
              "    <tr>\n",
              "      <th>std</th>\n",
              "      <td>1.105562</td>\n",
              "      <td>8196.319707</td>\n",
              "    </tr>\n",
              "    <tr>\n",
              "      <th>min</th>\n",
              "      <td>1.600000</td>\n",
              "      <td>266.000000</td>\n",
              "    </tr>\n",
              "    <tr>\n",
              "      <th>25%</th>\n",
              "      <td>2.200000</td>\n",
              "      <td>14623.500000</td>\n",
              "    </tr>\n",
              "    <tr>\n",
              "      <th>50%</th>\n",
              "      <td>2.800000</td>\n",
              "      <td>20913.500000</td>\n",
              "    </tr>\n",
              "    <tr>\n",
              "      <th>75%</th>\n",
              "      <td>3.800000</td>\n",
              "      <td>25213.000000</td>\n",
              "    </tr>\n",
              "    <tr>\n",
              "      <th>max</th>\n",
              "      <td>6.000000</td>\n",
              "      <td>50387.000000</td>\n",
              "    </tr>\n",
              "  </tbody>\n",
              "</table>\n",
              "</div>\n",
              "      <button class=\"colab-df-convert\" onclick=\"convertToInteractive('df-8d23a3f5-1282-4093-9618-18a071fd25a5')\"\n",
              "              title=\"Convert this dataframe to an interactive table.\"\n",
              "              style=\"display:none;\">\n",
              "        \n",
              "  <svg xmlns=\"http://www.w3.org/2000/svg\" height=\"24px\"viewBox=\"0 0 24 24\"\n",
              "       width=\"24px\">\n",
              "    <path d=\"M0 0h24v24H0V0z\" fill=\"none\"/>\n",
              "    <path d=\"M18.56 5.44l.94 2.06.94-2.06 2.06-.94-2.06-.94-.94-2.06-.94 2.06-2.06.94zm-11 1L8.5 8.5l.94-2.06 2.06-.94-2.06-.94L8.5 2.5l-.94 2.06-2.06.94zm10 10l.94 2.06.94-2.06 2.06-.94-2.06-.94-.94-2.06-.94 2.06-2.06.94z\"/><path d=\"M17.41 7.96l-1.37-1.37c-.4-.4-.92-.59-1.43-.59-.52 0-1.04.2-1.43.59L10.3 9.45l-7.72 7.72c-.78.78-.78 2.05 0 2.83L4 21.41c.39.39.9.59 1.41.59.51 0 1.02-.2 1.41-.59l7.78-7.78 2.81-2.81c.8-.78.8-2.07 0-2.86zM5.41 20L4 18.59l7.72-7.72 1.47 1.35L5.41 20z\"/>\n",
              "  </svg>\n",
              "      </button>\n",
              "      \n",
              "  <style>\n",
              "    .colab-df-container {\n",
              "      display:flex;\n",
              "      flex-wrap:wrap;\n",
              "      gap: 12px;\n",
              "    }\n",
              "\n",
              "    .colab-df-convert {\n",
              "      background-color: #E8F0FE;\n",
              "      border: none;\n",
              "      border-radius: 50%;\n",
              "      cursor: pointer;\n",
              "      display: none;\n",
              "      fill: #1967D2;\n",
              "      height: 32px;\n",
              "      padding: 0 0 0 0;\n",
              "      width: 32px;\n",
              "    }\n",
              "\n",
              "    .colab-df-convert:hover {\n",
              "      background-color: #E2EBFA;\n",
              "      box-shadow: 0px 1px 2px rgba(60, 64, 67, 0.3), 0px 1px 3px 1px rgba(60, 64, 67, 0.15);\n",
              "      fill: #174EA6;\n",
              "    }\n",
              "\n",
              "    [theme=dark] .colab-df-convert {\n",
              "      background-color: #3B4455;\n",
              "      fill: #D2E3FC;\n",
              "    }\n",
              "\n",
              "    [theme=dark] .colab-df-convert:hover {\n",
              "      background-color: #434B5C;\n",
              "      box-shadow: 0px 1px 3px 1px rgba(0, 0, 0, 0.15);\n",
              "      filter: drop-shadow(0px 1px 2px rgba(0, 0, 0, 0.3));\n",
              "      fill: #FFFFFF;\n",
              "    }\n",
              "  </style>\n",
              "\n",
              "      <script>\n",
              "        const buttonEl =\n",
              "          document.querySelector('#df-8d23a3f5-1282-4093-9618-18a071fd25a5 button.colab-df-convert');\n",
              "        buttonEl.style.display =\n",
              "          google.colab.kernel.accessAllowed ? 'block' : 'none';\n",
              "\n",
              "        async function convertToInteractive(key) {\n",
              "          const element = document.querySelector('#df-8d23a3f5-1282-4093-9618-18a071fd25a5');\n",
              "          const dataTable =\n",
              "            await google.colab.kernel.invokeFunction('convertToInteractive',\n",
              "                                                     [key], {});\n",
              "          if (!dataTable) return;\n",
              "\n",
              "          const docLinkHtml = 'Like what you see? Visit the ' +\n",
              "            '<a target=\"_blank\" href=https://colab.research.google.com/notebooks/data_table.ipynb>data table notebook</a>'\n",
              "            + ' to learn more about interactive tables.';\n",
              "          element.innerHTML = '';\n",
              "          dataTable['output_type'] = 'display_data';\n",
              "          await google.colab.output.renderOutput(dataTable, element);\n",
              "          const docLink = document.createElement('div');\n",
              "          docLink.innerHTML = docLinkHtml;\n",
              "          element.appendChild(docLink);\n",
              "        }\n",
              "      </script>\n",
              "    </div>\n",
              "  </div>\n",
              "  "
            ]
          },
          "metadata": {},
          "execution_count": 15
        }
      ]
    },
    {
      "cell_type": "code",
      "source": [
        "df['Make'].value_counts()"
      ],
      "metadata": {
        "colab": {
          "base_uri": "https://localhost:8080/"
        },
        "id": "Rdu_tR4aKE_B",
        "outputId": "86cf7752-feb8-4464-eedc-8cf38c6f0611"
      },
      "execution_count": null,
      "outputs": [
        {
          "output_type": "execute_result",
          "data": {
            "text/plain": [
              "Chevrolet    320\n",
              "Pontiac      150\n",
              "SAAB         114\n",
              "Buick         80\n",
              "Cadillac      80\n",
              "Saturn        60\n",
              "Name: Make, dtype: int64"
            ]
          },
          "metadata": {},
          "execution_count": 13
        }
      ]
    },
    {
      "cell_type": "code",
      "source": [
        "df['Model'].nunique()"
      ],
      "metadata": {
        "colab": {
          "base_uri": "https://localhost:8080/"
        },
        "id": "GB04QboSy5S8",
        "outputId": "27ef8746-ae3a-4239-b107-a0edfb9bac34"
      },
      "execution_count": null,
      "outputs": [
        {
          "output_type": "execute_result",
          "data": {
            "text/plain": [
              "32"
            ]
          },
          "metadata": {},
          "execution_count": 30
        }
      ]
    },
    {
      "cell_type": "code",
      "source": [
        "df['Model'].value_counts()"
      ],
      "metadata": {
        "colab": {
          "base_uri": "https://localhost:8080/"
        },
        "id": "m1Kk1aVQKMNd",
        "outputId": "a0324aff-746d-4254-a992-50579fecd185"
      },
      "execution_count": null,
      "outputs": [
        {
          "output_type": "execute_result",
          "data": {
            "text/plain": [
              "Malibu         60\n",
              "AVEO           60\n",
              "Cavalier       60\n",
              "Ion            50\n",
              "Cobalt         50\n",
              "9_3 HO         40\n",
              "Vibe           30\n",
              "Bonneville     30\n",
              "Monte Carlo    30\n",
              "Lacrosse       30\n",
              "Impala         30\n",
              "Grand Prix     30\n",
              "9_5            30\n",
              "Deville        30\n",
              "Lesabre        20\n",
              "Corvette       20\n",
              "9_3            20\n",
              "9_5 HO         20\n",
              "G6             20\n",
              "Grand Am       20\n",
              "Park Avenue    20\n",
              "Sunfire        10\n",
              "Century        10\n",
              "GTO            10\n",
              "Classic        10\n",
              "XLR-V8         10\n",
              "STS-V8         10\n",
              "STS-V6         10\n",
              "CTS            10\n",
              "CST-V          10\n",
              "L Series       10\n",
              "9-2X AWD        4\n",
              "Name: Model, dtype: int64"
            ]
          },
          "metadata": {},
          "execution_count": 9
        }
      ]
    },
    {
      "cell_type": "code",
      "source": [
        "df['Trim'].value_counts()"
      ],
      "metadata": {
        "colab": {
          "base_uri": "https://localhost:8080/"
        },
        "id": "8M_6FdHtK83Q",
        "outputId": "4916e7fc-53a0-47a1-c45b-fc24aa3cdd1a"
      },
      "execution_count": null,
      "outputs": [
        {
          "output_type": "execute_result",
          "data": {
            "text/plain": [
              "Sedan 4D               170\n",
              "Coupe 2D                50\n",
              "LS Sedan 4D             50\n",
              "LT Sedan 4D             30\n",
              "LS Coupe 2D             30\n",
              "Quad Coupe 2D           20\n",
              "SE Sedan 4D             20\n",
              "Arc Sedan 4D            20\n",
              "GT Sedan 4D             20\n",
              "Aero Sedan 4D           20\n",
              "Linear Wagon 4D         14\n",
              "SLE Sedan 4D            10\n",
              "GT Coupe 2D             10\n",
              "GTP Sedan 4D            10\n",
              "AWD Sportwagon 4D       10\n",
              "Linear Conv 2D          10\n",
              "GT Sportwagon           10\n",
              "Sportwagon 4D           10\n",
              "SS Coupe 2D             10\n",
              "Linear Sedan 4D         10\n",
              "Aero Conv 2D            10\n",
              "Arc Conv 2D             10\n",
              "Arc Wagon 4D            10\n",
              "Aero Wagon 4D           10\n",
              "GXP Sedan 4D            10\n",
              "LT MAXX Hback 4D        10\n",
              "LT Coupe 2D             10\n",
              "LS Hatchback 4D         10\n",
              "CXL Sedan 4D            10\n",
              "CXS Sedan 4D            10\n",
              "Custom Sedan 4D         10\n",
              "Limited Sedan 4D        10\n",
              "Special Ed Ultra 4D     10\n",
              "DHS Sedan 4D            10\n",
              "DTS Sedan 4D            10\n",
              "Hardtop Conv 2D         10\n",
              "LT Hatchback 4D         10\n",
              "MAXX Hback 4D           10\n",
              "SVM Hatchback 4D        10\n",
              "SVM Sedan 4D            10\n",
              "LS Sport Coupe 2D       10\n",
              "LS Sport Sedan 4D       10\n",
              "Conv 2D                 10\n",
              "SS Sedan 4D             10\n",
              "LS MAXX Hback 4D        10\n",
              "CX Sedan 4D             10\n",
              "L300 Sedan 4D           10\n",
              "Name: Trim, dtype: int64"
            ]
          },
          "metadata": {},
          "execution_count": 10
        }
      ]
    },
    {
      "cell_type": "code",
      "source": [
        "df['Type'].value_counts()"
      ],
      "metadata": {
        "colab": {
          "base_uri": "https://localhost:8080/"
        },
        "id": "URV8wwpiLHTC",
        "outputId": "723f4b7d-ca77-4425-dbf9-19ac64842724"
      },
      "execution_count": null,
      "outputs": [
        {
          "output_type": "execute_result",
          "data": {
            "text/plain": [
              "Sedan          490\n",
              "Coupe          140\n",
              "Wagon           64\n",
              "Hatchback       60\n",
              "Convertible     50\n",
              "Name: Type, dtype: int64"
            ]
          },
          "metadata": {},
          "execution_count": 11
        }
      ]
    },
    {
      "cell_type": "code",
      "source": [
        "df['Cylinder'].value_counts()"
      ],
      "metadata": {
        "colab": {
          "base_uri": "https://localhost:8080/"
        },
        "id": "TlDb4WrlLNxP",
        "outputId": "f46b9ec1-34e5-4462-9383-12e9dfa10937"
      },
      "execution_count": null,
      "outputs": [
        {
          "output_type": "execute_result",
          "data": {
            "text/plain": [
              "4    394\n",
              "6    310\n",
              "8    100\n",
              "Name: Cylinder, dtype: int64"
            ]
          },
          "metadata": {},
          "execution_count": 12
        }
      ]
    },
    {
      "cell_type": "code",
      "source": [
        "df['Doors'].value_counts()"
      ],
      "metadata": {
        "colab": {
          "base_uri": "https://localhost:8080/"
        },
        "id": "Y_4vpZftLTCZ",
        "outputId": "4cd91159-b8e5-46c7-c4eb-48796ad3e196"
      },
      "execution_count": null,
      "outputs": [
        {
          "output_type": "execute_result",
          "data": {
            "text/plain": [
              "4    614\n",
              "2    190\n",
              "Name: Doors, dtype: int64"
            ]
          },
          "metadata": {},
          "execution_count": 14
        }
      ]
    },
    {
      "cell_type": "code",
      "source": [
        "df['Cruise'].value_counts()"
      ],
      "metadata": {
        "colab": {
          "base_uri": "https://localhost:8080/"
        },
        "id": "VH4w-hlYLahU",
        "outputId": "5ff225bc-4407-4349-e27c-66d4d4372955"
      },
      "execution_count": null,
      "outputs": [
        {
          "output_type": "execute_result",
          "data": {
            "text/plain": [
              "1    605\n",
              "0    199\n",
              "Name: Cruise, dtype: int64"
            ]
          },
          "metadata": {},
          "execution_count": 16
        }
      ]
    },
    {
      "cell_type": "code",
      "source": [
        "df['Sound'].value_counts()"
      ],
      "metadata": {
        "colab": {
          "base_uri": "https://localhost:8080/"
        },
        "id": "yXcWcLFeL6ON",
        "outputId": "969636ff-5170-40d0-bcba-e82b503b979c"
      },
      "execution_count": null,
      "outputs": [
        {
          "output_type": "execute_result",
          "data": {
            "text/plain": [
              "1    546\n",
              "0    258\n",
              "Name: Sound, dtype: int64"
            ]
          },
          "metadata": {},
          "execution_count": 17
        }
      ]
    },
    {
      "cell_type": "code",
      "source": [
        "df['Leather'].value_counts()"
      ],
      "metadata": {
        "colab": {
          "base_uri": "https://localhost:8080/"
        },
        "id": "GuAgkaj8MD3a",
        "outputId": "c048146b-1950-4c64-8271-66aadadf688f"
      },
      "execution_count": null,
      "outputs": [
        {
          "output_type": "execute_result",
          "data": {
            "text/plain": [
              "1    582\n",
              "0    222\n",
              "Name: Leather, dtype: int64"
            ]
          },
          "metadata": {},
          "execution_count": 18
        }
      ]
    },
    {
      "cell_type": "markdown",
      "source": [
        "Task 1"
      ],
      "metadata": {
        "id": "DP_OjISNnzJH"
      }
    },
    {
      "cell_type": "code",
      "source": [
        "#Creating a linear regression model\n",
        "from sklearn.linear_model import LinearRegression\n",
        "from sklearn.metrics import r2_score\n",
        "X = df['Mileage'].values.reshape(-1,1)\n",
        "Y = df['Price'].values.reshape(-1,1)\n",
        "model = LinearRegression()\n",
        "model.fit(X,Y)\n",
        "print(\"Intercept:{} ,Coefficients:{}\".format(model.intercept_, model.coef_))"
      ],
      "metadata": {
        "colab": {
          "base_uri": "https://localhost:8080/"
        },
        "id": "Bz6Gy2EdMHSI",
        "outputId": "4665b50b-1df9-4bb8-f571-43144cf80b6d"
      },
      "execution_count": null,
      "outputs": [
        {
          "output_type": "stream",
          "name": "stdout",
          "text": [
            "Intercept:[24764.55900606] ,Coefficients:[[-0.1725205]]\n"
          ]
        }
      ]
    },
    {
      "cell_type": "code",
      "source": [
        "eq = \"y = {}*x  + {}\".format(model.coef_[0],model.intercept_)\n",
        "print(\"The linear equation for the data is \\n\",eq)"
      ],
      "metadata": {
        "colab": {
          "base_uri": "https://localhost:8080/"
        },
        "id": "FVmROoRIMjmp",
        "outputId": "020ea45e-e19d-4a69-ebfc-4f79bf92b8a4"
      },
      "execution_count": null,
      "outputs": [
        {
          "output_type": "stream",
          "name": "stdout",
          "text": [
            "The linear equation for the data is \n",
            " y = [-0.1725205]*x  + [24764.55900606]\n"
          ]
        }
      ]
    },
    {
      "cell_type": "code",
      "source": [
        "#2. Plotting the original data and the regression line\n",
        "plt.scatter(X,Y)\n",
        "plt.plot(X, model.predict(X), color=\"red\", linewidth=3)\n",
        "plt.xlabel(\"Mileage\")\n",
        "plt.ylabel(\"Price\")\n",
        "plt.title(\"Mileage vs Price\")\n",
        "plt.grid()\n",
        "plt.show()"
      ],
      "metadata": {
        "colab": {
          "base_uri": "https://localhost:8080/",
          "height": 295
        },
        "id": "uHZvd6VDMwCd",
        "outputId": "3ade5bf8-6956-4c9d-8013-1c42a3261bb4"
      },
      "execution_count": null,
      "outputs": [
        {
          "output_type": "display_data",
          "data": {
            "text/plain": [
              "<Figure size 432x288 with 1 Axes>"
            ],
            "image/png": "[encoded data removed]"
          },
          "metadata": {
            "needs_background": "light"
          }
        }
      ]
    },
    {
      "cell_type": "code",
      "source": [
        "model.score(X,Y) #3. r2 score of the model"
      ],
      "metadata": {
        "colab": {
          "base_uri": "https://localhost:8080/"
        },
        "id": "TJOie7tkM6Z2",
        "outputId": "19c7e301-cfc4-4367-bc3f-ed3d91a68d41"
      },
      "execution_count": null,
      "outputs": [
        {
          "output_type": "execute_result",
          "data": {
            "text/plain": [
              "0.02046344732348926"
            ]
          },
          "metadata": {},
          "execution_count": 6
        }
      ]
    },
    {
      "cell_type": "markdown",
      "source": [
        "Task 2"
      ],
      "metadata": {
        "id": "tsqZh0-BoDu7"
      }
    },
    {
      "cell_type": "code",
      "source": [
        "# Taking these seven columns for model building\n",
        "input_cols = ['Mileage','Cylinder','Liter','Doors','Cruise','Sound','Leather']\n",
        "X = df[input_cols]"
      ],
      "metadata": {
        "id": "e3FODwYENKKS"
      },
      "execution_count": null,
      "outputs": []
    },
    {
      "cell_type": "code",
      "source": [
        "# I thought it would be better to normalize/standardize inputs as their ranges are far apart.\n",
        "from sklearn.preprocessing import StandardScaler,MinMaxScaler\n",
        "func1 = MinMaxScaler(feature_range = (0,1))\n",
        "func2 = StandardScaler()\n",
        "X_norm = func1.fit_transform(X)\n",
        "func2.fit(X)\n",
        "X_stand = func2.transform(X) "
      ],
      "metadata": {
        "id": "CLNdINePklyJ"
      },
      "execution_count": null,
      "outputs": []
    },
    {
      "cell_type": "code",
      "source": [
        "#Creating a linear regression model without normalization/standardization of inputs\n",
        "Y = df['Price'].values.reshape(-1,1)\n",
        "model1 = LinearRegression()\n",
        "model1.fit(X,Y)\n",
        "print(\"Intercept:{} ,Coefficients:{}\".format(model1.intercept_, model1.coef_))\n",
        "model1.score(X,Y)"
      ],
      "metadata": {
        "colab": {
          "base_uri": "https://localhost:8080/"
        },
        "id": "1Ob5-k_JmJ1B",
        "outputId": "0aadecf0-33aa-4be6-d34b-a2b4e53ddd66"
      },
      "execution_count": null,
      "outputs": [
        {
          "output_type": "stream",
          "name": "stdout",
          "text": [
            "Intercept:[6758.7551436] ,Coefficients:[[-1.69747832e-01  3.79237893e+03 -7.87220732e+02 -1.54274585e+03\n",
            "   6.28899715e+03 -1.99379528e+03  3.34936162e+03]]\n"
          ]
        },
        {
          "output_type": "execute_result",
          "data": {
            "text/plain": [
              "0.4462643536728379"
            ]
          },
          "metadata": {},
          "execution_count": 22
        }
      ]
    },
    {
      "cell_type": "code",
      "source": [
        "#Creating a linear regression model with standardized inputs\n",
        "Y = df['Price'].values.reshape(-1,1)\n",
        "model2 = LinearRegression()\n",
        "model2.fit(X_stand,Y)\n",
        "print(\"Intercept:{} ,Coefficients:{}\".format(model2.intercept_, model2.coef_))\n",
        "model2.score(X_stand,Y)"
      ],
      "metadata": {
        "colab": {
          "base_uri": "https://localhost:8080/"
        },
        "id": "YH5lyeG0mDLI",
        "outputId": "9917bbe0-d12f-4830-94b8-e574639ff6a0"
      },
      "execution_count": null,
      "outputs": [
        {
          "output_type": "stream",
          "name": "stdout",
          "text": [
            "Intercept:[21343.14376733] ,Coefficients:[[-1390.44199315  5258.77092032  -869.77988086 -1310.7785287\n",
            "   2714.12330837  -930.74494929  1497.42117515]]\n"
          ]
        },
        {
          "output_type": "execute_result",
          "data": {
            "text/plain": [
              "0.446264353672838"
            ]
          },
          "metadata": {},
          "execution_count": 23
        }
      ]
    },
    {
      "cell_type": "code",
      "source": [
        "#Creating a linear regression model with normalized inputs\n",
        "Y = df['Price'].values.reshape(-1,1)\n",
        "model3 = LinearRegression()\n",
        "model3.fit(X_norm,Y)\n",
        "print(\"Intercept:{} ,Coefficients:{}\".format(model3.intercept_, model3.coef_))\n",
        "model3.score(X_norm,Y)"
      ],
      "metadata": {
        "colab": {
          "base_uri": "https://localhost:8080/"
        },
        "id": "Xza68SvzjKRq",
        "outputId": "2196dc75-1a09-4972-9c1e-269b4cf80e52"
      },
      "execution_count": null,
      "outputs": [
        {
          "output_type": "stream",
          "name": "stdout",
          "text": [
            "Intercept:[17538.07307995] ,Coefficients:[[-8507.93110436 15169.51572313 -3463.77121919 -3085.49169276\n",
            "   6288.99714985 -1993.7952757   3349.36161961]]\n"
          ]
        },
        {
          "output_type": "execute_result",
          "data": {
            "text/plain": [
              "0.446264353672838"
            ]
          },
          "metadata": {},
          "execution_count": 24
        }
      ]
    },
    {
      "cell_type": "markdown",
      "source": [
        "Here we can see that normalization/standardization have no effect on the model score in this case.We get 0.446 r2_score with the combination of these inputs which is not very great."
      ],
      "metadata": {
        "id": "bNXKKttApiJK"
      }
    },
    {
      "cell_type": "code",
      "source": [
        "#Function to get all combinations of input columns\n",
        "import itertools as it\n",
        "def input_combos(cols):\n",
        "    return [it.combinations(cols, n+1) for n in range(len(cols))]"
      ],
      "metadata": {
        "id": "QhT1xt__pgvY"
      },
      "execution_count": null,
      "outputs": []
    },
    {
      "cell_type": "code",
      "source": [
        "combos = input_combos(input_cols)"
      ],
      "metadata": {
        "id": "QA8CZZFFqXYA"
      },
      "execution_count": null,
      "outputs": []
    },
    {
      "cell_type": "code",
      "source": [
        "#Creating a model for each combination and returning the r2 scores\n",
        "def combo_r2scores( all_combos, df, output='Price'):\n",
        "    combo_scores = {}\n",
        "    for i in range(len(list(all_combos))):\n",
        "        for j in list(all_combos[i]):\n",
        "            X = df[list(j)]\n",
        "            Y = df['Price']\n",
        "            model = LinearRegression().fit(X,Y)\n",
        "            combo_scores[model.score(X,Y)] = j\n",
        "    return combo_scores"
      ],
      "metadata": {
        "id": "oeeoObQ8qcAs"
      },
      "execution_count": null,
      "outputs": []
    },
    {
      "cell_type": "code",
      "source": [
        "combo_r2scores(combos,df,'Price')"
      ],
      "metadata": {
        "colab": {
          "base_uri": "https://localhost:8080/"
        },
        "id": "wq5FLRMEqf9E",
        "outputId": "260b5b4b-4c62-4d02-f9ff-283bf5c2cba3"
      },
      "execution_count": null,
      "outputs": [
        {
          "output_type": "execute_result",
          "data": {
            "text/plain": [
              "{0.015462387624189389: ('Sound',),\n",
              " 0.019251466591467037: ('Doors',),\n",
              " 0.02046344732348926: ('Mileage',),\n",
              " 0.024710851264124534: ('Leather',),\n",
              " 0.03688121596735017: ('Mileage', 'Sound'),\n",
              " 0.03701628770903431: ('Doors', 'Sound'),\n",
              " 0.04039914867118721: ('Mileage', 'Doors'),\n",
              " 0.04141817346866039: ('Doors', 'Leather'),\n",
              " 0.04521956340886857: ('Mileage', 'Leather'),\n",
              " 0.04795369092082724: ('Sound', 'Leather'),\n",
              " 0.05925054392042661: ('Mileage', 'Doors', 'Sound'),\n",
              " 0.06256392121987697: ('Mileage', 'Doors', 'Leather'),\n",
              " 0.06687313316188848: ('Doors', 'Sound', 'Leather'),\n",
              " 0.06965940622436506: ('Mileage', 'Sound', 'Leather'),\n",
              " 0.08933709379370725: ('Mileage', 'Doors', 'Sound', 'Leather'),\n",
              " 0.1856330092969276: ('Cruise',),\n",
              " 0.19288948066869627: ('Cruise', 'Sound'),\n",
              " 0.1996382468921617: ('Doors', 'Cruise'),\n",
              " 0.2083536888853531: ('Doors', 'Cruise', 'Sound'),\n",
              " 0.2093138558315859: ('Mileage', 'Cruise'),\n",
              " 0.21721656906779274: ('Mileage', 'Cruise', 'Sound'),\n",
              " 0.2210042052179847: ('Cruise', 'Leather'),\n",
              " 0.2239031407636466: ('Mileage', 'Doors', 'Cruise'),\n",
              " 0.23229120295179528: ('Doors', 'Cruise', 'Leather'),\n",
              " 0.23336920288580454: ('Mileage', 'Doors', 'Cruise', 'Sound'),\n",
              " 0.23464406340531807: ('Cruise', 'Sound', 'Leather'),\n",
              " 0.24484643441472986: ('Mileage', 'Cruise', 'Leather'),\n",
              " 0.24744913495807552: ('Doors', 'Cruise', 'Sound', 'Leather'),\n",
              " 0.2566547812611919: ('Mileage', 'Doors', 'Cruise', 'Leather'),\n",
              " 0.2594013856567562: ('Mileage', 'Cruise', 'Sound', 'Leather'),\n",
              " 0.272825947675678: ('Mileage', 'Doors', 'Cruise', 'Sound', 'Leather'),\n",
              " 0.31152674427904503: ('Liter',),\n",
              " 0.31926427639502897: ('Liter', 'Sound'),\n",
              " 0.32051564077668315: ('Liter', 'Doors'),\n",
              " 0.32337917189904186: ('Liter', 'Leather'),\n",
              " 0.32385903759512247: ('Cylinder',),\n",
              " 0.32591551601566593: ('Cylinder', 'Liter'),\n",
              " 0.3291279066854156: ('Mileage', 'Liter'),\n",
              " 0.32927527347959384: ('Cylinder', 'Sound'),\n",
              " 0.32947196699054004: ('Liter', 'Doors', 'Sound'),\n",
              " 0.3312844538529036: ('Liter', 'Doors', 'Leather'),\n",
              " 0.3318486045315714: ('Cylinder', 'Liter', 'Sound'),\n",
              " 0.33511407076463473: ('Liter', 'Sound', 'Leather'),\n",
              " 0.33698000644980597: ('Cylinder', 'Leather'),\n",
              " 0.3375252452641955: ('Mileage', 'Liter', 'Sound'),\n",
              " 0.33853269361625415: ('Cylinder', 'Liter', 'Leather'),\n",
              " 0.33859102766485816: ('Mileage', 'Liter', 'Doors'),\n",
              " 0.33982070826367505: ('Mileage', 'Cylinder'),\n",
              " 0.34105691618639955: ('Mileage', 'Liter', 'Leather'),\n",
              " 0.34228021178720824: ('Mileage', 'Cylinder', 'Liter'),\n",
              " 0.343460536583038: ('Cylinder', 'Doors'),\n",
              " 0.3434954780689595: ('Cylinder', 'Liter', 'Doors'),\n",
              " 0.3442397580756411: ('Liter', 'Doors', 'Sound', 'Leather'),\n",
              " 0.34579303945195394: ('Mileage', 'Cylinder', 'Sound'),\n",
              " 0.3459853327541679: ('Cylinder', 'Sound', 'Leather'),\n",
              " 0.34805583937456297: ('Cylinder', 'Liter', 'Sound', 'Leather'),\n",
              " 0.34830222786670784: ('Mileage', 'Liter', 'Doors', 'Sound'),\n",
              " 0.34885465224422074: ('Mileage', 'Cylinder', 'Liter', 'Sound'),\n",
              " 0.34940517971815865: ('Mileage', 'Liter', 'Doors', 'Leather'),\n",
              " 0.3502699330133767: ('Cylinder', 'Doors', 'Sound'),\n",
              " 0.35038121816111256: ('Cylinder', 'Liter', 'Doors', 'Sound'),\n",
              " 0.35303578931823965: ('Mileage', 'Cylinder', 'Leather'),\n",
              " 0.35363153818528137: ('Mileage', 'Liter', 'Sound', 'Leather'),\n",
              " 0.3547026130008998: ('Cylinder', 'Doors', 'Leather'),\n",
              " 0.3547068894092531: ('Cylinder', 'Liter', 'Doors', 'Leather'),\n",
              " 0.354940443055751: ('Mileage', 'Cylinder', 'Liter', 'Leather'),\n",
              " 0.3600299189649303: ('Mileage', 'Cylinder', 'Doors'),\n",
              " 0.3601250633027092: ('Mileage', 'Cylinder', 'Liter', 'Doors'),\n",
              " 0.3627841037859246: ('Mileage', 'Cylinder', 'Sound', 'Leather'),\n",
              " 0.36329101174690714: ('Mileage', 'Liter', 'Doors', 'Sound', 'Leather'),\n",
              " 0.36511700356207033: ('Cylinder', 'Doors', 'Sound', 'Leather'),\n",
              " 0.36516944395094464: ('Cylinder', 'Liter', 'Doors', 'Sound', 'Leather'),\n",
              " 0.365294232839972: ('Mileage', 'Cylinder', 'Liter', 'Sound', 'Leather'),\n",
              " 0.3674991296973681: ('Mileage', 'Cylinder', 'Doors', 'Sound'),\n",
              " 0.36771522262682854: ('Mileage', 'Cylinder', 'Liter', 'Doors', 'Sound'),\n",
              " 0.3680458490296844: ('Liter', 'Cruise'),\n",
              " 0.37133199838451947: ('Mileage', 'Cylinder', 'Doors', 'Leather'),\n",
              " 0.37136690890240676: ('Mileage', 'Cylinder', 'Liter', 'Doors', 'Leather'),\n",
              " 0.3730745596141458: ('Liter', 'Cruise', 'Sound'),\n",
              " 0.3761916805347969: ('Liter', 'Doors', 'Cruise'),\n",
              " 0.38218087776588217: ('Liter', 'Doors', 'Cruise', 'Sound'),\n",
              " 0.38258521179336924: ('Mileage', 'Cylinder', 'Doors', 'Sound', 'Leather'),\n",
              " 0.382715045002158: ('Mileage',\n",
              "  'Cylinder',\n",
              "  'Liter',\n",
              "  'Doors',\n",
              "  'Sound',\n",
              "  'Leather'),\n",
              " 0.3839491324027344: ('Cylinder', 'Cruise'),\n",
              " 0.3840622008524506: ('Cylinder', 'Liter', 'Cruise'),\n",
              " 0.38665505937731115: ('Liter', 'Cruise', 'Leather'),\n",
              " 0.3873058022296456: ('Cylinder', 'Cruise', 'Sound'),\n",
              " 0.38754312167360194: ('Cylinder', 'Liter', 'Cruise', 'Sound'),\n",
              " 0.38792398390551597: ('Mileage', 'Liter', 'Cruise'),\n",
              " 0.39345887351036213: ('Liter', 'Doors', 'Cruise', 'Leather'),\n",
              " 0.39346849142215845: ('Mileage', 'Liter', 'Cruise', 'Sound'),\n",
              " 0.39564260736568424: ('Liter', 'Cruise', 'Sound', 'Leather'),\n",
              " 0.39653266980131796: ('Mileage', 'Liter', 'Doors', 'Cruise'),\n",
              " 0.4001989079545568: ('Cylinder', 'Doors', 'Cruise'),\n",
              " 0.40087486932703054: ('Cylinder', 'Liter', 'Doors', 'Cruise'),\n",
              " 0.4023745860316019: ('Mileage', 'Cylinder', 'Cruise'),\n",
              " 0.4025842618924307: ('Mileage', 'Cylinder', 'Liter', 'Cruise'),\n",
              " 0.4031213170211536: ('Mileage', 'Liter', 'Doors', 'Cruise', 'Sound'),\n",
              " 0.40346337208358063: ('Liter', 'Doors', 'Cruise', 'Sound', 'Leather'),\n",
              " 0.40380272693971553: ('Cylinder', 'Cruise', 'Leather'),\n",
              " 0.40380376425767606: ('Cylinder', 'Liter', 'Cruise', 'Leather'),\n",
              " 0.40462307098659855: ('Cylinder', 'Doors', 'Cruise', 'Sound'),\n",
              " 0.4050927515057854: ('Cylinder', 'Liter', 'Doors', 'Cruise', 'Sound'),\n",
              " 0.4061644982625815: ('Mileage', 'Cylinder', 'Cruise', 'Sound'),\n",
              " 0.40654915865835173: ('Mileage', 'Cylinder', 'Liter', 'Cruise', 'Sound'),\n",
              " 0.40678789687026895: ('Mileage', 'Liter', 'Cruise', 'Leather'),\n",
              " 0.41065494158588833: ('Cylinder', 'Cruise', 'Sound', 'Leather'),\n",
              " 0.4107029526441044: ('Cylinder', 'Liter', 'Cruise', 'Sound', 'Leather'),\n",
              " 0.414009223163035: ('Mileage', 'Liter', 'Doors', 'Cruise', 'Leather'),\n",
              " 0.41650804904235117: ('Mileage', 'Liter', 'Cruise', 'Sound', 'Leather'),\n",
              " 0.4177602737019719: ('Cylinder', 'Doors', 'Cruise', 'Leather'),\n",
              " 0.4188394218057132: ('Cylinder', 'Liter', 'Doors', 'Cruise', 'Leather'),\n",
              " 0.41914964510731756: ('Mileage', 'Cylinder', 'Doors', 'Cruise'),\n",
              " 0.4196580477703242: ('Mileage', 'Cylinder', 'Liter', 'Doors', 'Cruise'),\n",
              " 0.4225074214774762: ('Mileage', 'Cylinder', 'Cruise', 'Leather'),\n",
              " 0.4225307670398465: ('Mileage', 'Cylinder', 'Liter', 'Cruise', 'Leather'),\n",
              " 0.42409748258510405: ('Mileage', 'Cylinder', 'Doors', 'Cruise', 'Sound'),\n",
              " 0.4244182401799875: ('Mileage',\n",
              "  'Cylinder',\n",
              "  'Liter',\n",
              "  'Doors',\n",
              "  'Cruise',\n",
              "  'Sound'),\n",
              " 0.42482840454267856: ('Mileage',\n",
              "  'Liter',\n",
              "  'Doors',\n",
              "  'Cruise',\n",
              "  'Sound',\n",
              "  'Leather'),\n",
              " 0.4257681327974421: ('Cylinder', 'Doors', 'Cruise', 'Sound', 'Leather'),\n",
              " 0.4265348637809262: ('Cylinder',\n",
              "  'Liter',\n",
              "  'Doors',\n",
              "  'Cruise',\n",
              "  'Sound',\n",
              "  'Leather'),\n",
              " 0.43001820483252684: ('Mileage', 'Cylinder', 'Cruise', 'Sound', 'Leather'),\n",
              " 0.43014148406475594: ('Mileage',\n",
              "  'Cylinder',\n",
              "  'Liter',\n",
              "  'Cruise',\n",
              "  'Sound',\n",
              "  'Leather'),\n",
              " 0.4369402151237246: ('Mileage', 'Cylinder', 'Doors', 'Cruise', 'Leather'),\n",
              " 0.437805741536638: ('Mileage',\n",
              "  'Cylinder',\n",
              "  'Liter',\n",
              "  'Doors',\n",
              "  'Cruise',\n",
              "  'Leather'),\n",
              " 0.44569092105870245: ('Mileage',\n",
              "  'Cylinder',\n",
              "  'Doors',\n",
              "  'Cruise',\n",
              "  'Sound',\n",
              "  'Leather'),\n",
              " 0.4462643536728379: ('Mileage',\n",
              "  'Cylinder',\n",
              "  'Liter',\n",
              "  'Doors',\n",
              "  'Cruise',\n",
              "  'Sound',\n",
              "  'Leather')}"
            ]
          },
          "metadata": {},
          "execution_count": 29
        }
      ]
    },
    {
      "cell_type": "markdown",
      "source": [
        "Combination of all 7 input fields produce the highest r2 score of 0.446"
      ],
      "metadata": {
        "id": "Ow_W5xUDorEs"
      }
    },
    {
      "cell_type": "markdown",
      "source": [
        "##Task 3"
      ],
      "metadata": {
        "id": "pDnBIvE_zDTR"
      }
    },
    {
      "cell_type": "code",
      "source": [
        "df1 = df.copy()"
      ],
      "metadata": {
        "id": "PKDz7lGNzC54"
      },
      "execution_count": null,
      "outputs": []
    },
    {
      "cell_type": "code",
      "source": [
        "#As we have more than 40 categories in these 3 columns I wanted to try label encoding\n",
        "df1[['Make','Model','Type']] = df1[['Make','Model','Type']].astype('category')\n",
        "df1.dtypes"
      ],
      "metadata": {
        "colab": {
          "base_uri": "https://localhost:8080/"
        },
        "id": "5W5wXNXjrllp",
        "outputId": "76b7904f-5016-452b-f740-956a40a61311"
      },
      "execution_count": null,
      "outputs": [
        {
          "output_type": "execute_result",
          "data": {
            "text/plain": [
              "Price        float64\n",
              "Mileage        int64\n",
              "Make        category\n",
              "Model       category\n",
              "Trim          object\n",
              "Type        category\n",
              "Cylinder       int64\n",
              "Liter        float64\n",
              "Doors          int64\n",
              "Cruise         int64\n",
              "Sound          int64\n",
              "Leather        int64\n",
              "dtype: object"
            ]
          },
          "metadata": {},
          "execution_count": 34
        }
      ]
    },
    {
      "cell_type": "code",
      "source": [
        "df1['Make'] = df1['Make'].cat.codes\n",
        "df1['Model'] = df1['Model'].cat.codes\n",
        "df1['Type'] = df1['Type'].cat.codes"
      ],
      "metadata": {
        "id": "W7qY2PdU6XEq"
      },
      "execution_count": null,
      "outputs": []
    },
    {
      "cell_type": "code",
      "source": [
        "df1"
      ],
      "metadata": {
        "colab": {
          "base_uri": "https://localhost:8080/",
          "height": 424
        },
        "id": "Iq1CfIC77jZ5",
        "outputId": "d2f2df96-fff1-440f-951b-3b5e3684baed"
      },
      "execution_count": null,
      "outputs": [
        {
          "output_type": "execute_result",
          "data": {
            "text/plain": [
              "            Price  Mileage  Make  Model           Trim  Type  Cylinder  Liter  \\\n",
              "0    17314.103129     8221     0     10       Sedan 4D     3         6    3.1   \n",
              "1    17542.036083     9135     0     10       Sedan 4D     3         6    3.1   \n",
              "2    16218.847862    13196     0     10       Sedan 4D     3         6    3.1   \n",
              "3    16336.913140    16342     0     10       Sedan 4D     3         6    3.1   \n",
              "4    16339.170324    19832     0     10       Sedan 4D     3         6    3.1   \n",
              "..            ...      ...   ...    ...            ...   ...       ...    ...   \n",
              "799  16507.070267    16229     5     21  L300 Sedan 4D     3         6    3.0   \n",
              "800  16175.957604    19095     5     21  L300 Sedan 4D     3         6    3.0   \n",
              "801  15731.132897    20484     5     21  L300 Sedan 4D     3         6    3.0   \n",
              "802  15118.893228    25979     5     21  L300 Sedan 4D     3         6    3.0   \n",
              "803  13585.636802    35662     5     21  L300 Sedan 4D     3         6    3.0   \n",
              "\n",
              "     Doors  Cruise  Sound  Leather  \n",
              "0        4       1      1        1  \n",
              "1        4       1      1        0  \n",
              "2        4       1      1        0  \n",
              "3        4       1      0        0  \n",
              "4        4       1      0        1  \n",
              "..     ...     ...    ...      ...  \n",
              "799      4       1      0        0  \n",
              "800      4       1      1        0  \n",
              "801      4       1      1        0  \n",
              "802      4       1      1        0  \n",
              "803      4       1      0        0  \n",
              "\n",
              "[804 rows x 12 columns]"
            ],
            "text/html": [
              "\n",
              "  <div id=\"df-9b1cc9aa-e5aa-41e6-8753-a7c2835f04a7\">\n",
              "    <div class=\"colab-df-container\">\n",
              "      <div>\n",
              "<style scoped>\n",
              "    .dataframe tbody tr th:only-of-type {\n",
              "        vertical-align: middle;\n",
              "    }\n",
              "\n",
              "    .dataframe tbody tr th {\n",
              "        vertical-align: top;\n",
              "    }\n",
              "\n",
              "    .dataframe thead th {\n",
              "        text-align: right;\n",
              "    }\n",
              "</style>\n",
              "<table border=\"1\" class=\"dataframe\">\n",
              "  <thead>\n",
              "    <tr style=\"text-align: right;\">\n",
              "      <th></th>\n",
              "      <th>Price</th>\n",
              "      <th>Mileage</th>\n",
              "      <th>Make</th>\n",
              "      <th>Model</th>\n",
              "      <th>Trim</th>\n",
              "      <th>Type</th>\n",
              "      <th>Cylinder</th>\n",
              "      <th>Liter</th>\n",
              "      <th>Doors</th>\n",
              "      <th>Cruise</th>\n",
              "      <th>Sound</th>\n",
              "      <th>Leather</th>\n",
              "    </tr>\n",
              "  </thead>\n",
              "  <tbody>\n",
              "    <tr>\n",
              "      <th>0</th>\n",
              "      <td>17314.103129</td>\n",
              "      <td>8221</td>\n",
              "      <td>0</td>\n",
              "      <td>10</td>\n",
              "      <td>Sedan 4D</td>\n",
              "      <td>3</td>\n",
              "      <td>6</td>\n",
              "      <td>3.1</td>\n",
              "      <td>4</td>\n",
              "      <td>1</td>\n",
              "      <td>1</td>\n",
              "      <td>1</td>\n",
              "    </tr>\n",
              "    <tr>\n",
              "      <th>1</th>\n",
              "      <td>17542.036083</td>\n",
              "      <td>9135</td>\n",
              "      <td>0</td>\n",
              "      <td>10</td>\n",
              "      <td>Sedan 4D</td>\n",
              "      <td>3</td>\n",
              "      <td>6</td>\n",
              "      <td>3.1</td>\n",
              "      <td>4</td>\n",
              "      <td>1</td>\n",
              "      <td>1</td>\n",
              "      <td>0</td>\n",
              "    </tr>\n",
              "    <tr>\n",
              "      <th>2</th>\n",
              "      <td>16218.847862</td>\n",
              "      <td>13196</td>\n",
              "      <td>0</td>\n",
              "      <td>10</td>\n",
              "      <td>Sedan 4D</td>\n",
              "      <td>3</td>\n",
              "      <td>6</td>\n",
              "      <td>3.1</td>\n",
              "      <td>4</td>\n",
              "      <td>1</td>\n",
              "      <td>1</td>\n",
              "      <td>0</td>\n",
              "    </tr>\n",
              "    <tr>\n",
              "      <th>3</th>\n",
              "      <td>16336.913140</td>\n",
              "      <td>16342</td>\n",
              "      <td>0</td>\n",
              "      <td>10</td>\n",
              "      <td>Sedan 4D</td>\n",
              "      <td>3</td>\n",
              "      <td>6</td>\n",
              "      <td>3.1</td>\n",
              "      <td>4</td>\n",
              "      <td>1</td>\n",
              "      <td>0</td>\n",
              "      <td>0</td>\n",
              "    </tr>\n",
              "    <tr>\n",
              "      <th>4</th>\n",
              "      <td>16339.170324</td>\n",
              "      <td>19832</td>\n",
              "      <td>0</td>\n",
              "      <td>10</td>\n",
              "      <td>Sedan 4D</td>\n",
              "      <td>3</td>\n",
              "      <td>6</td>\n",
              "      <td>3.1</td>\n",
              "      <td>4</td>\n",
              "      <td>1</td>\n",
              "      <td>0</td>\n",
              "      <td>1</td>\n",
              "    </tr>\n",
              "    <tr>\n",
              "      <th>...</th>\n",
              "      <td>...</td>\n",
              "      <td>...</td>\n",
              "      <td>...</td>\n",
              "      <td>...</td>\n",
              "      <td>...</td>\n",
              "      <td>...</td>\n",
              "      <td>...</td>\n",
              "      <td>...</td>\n",
              "      <td>...</td>\n",
              "      <td>...</td>\n",
              "      <td>...</td>\n",
              "      <td>...</td>\n",
              "    </tr>\n",
              "    <tr>\n",
              "      <th>799</th>\n",
              "      <td>16507.070267</td>\n",
              "      <td>16229</td>\n",
              "      <td>5</td>\n",
              "      <td>21</td>\n",
              "      <td>L300 Sedan 4D</td>\n",
              "      <td>3</td>\n",
              "      <td>6</td>\n",
              "      <td>3.0</td>\n",
              "      <td>4</td>\n",
              "      <td>1</td>\n",
              "      <td>0</td>\n",
              "      <td>0</td>\n",
              "    </tr>\n",
              "    <tr>\n",
              "      <th>800</th>\n",
              "      <td>16175.957604</td>\n",
              "      <td>19095</td>\n",
              "      <td>5</td>\n",
              "      <td>21</td>\n",
              "      <td>L300 Sedan 4D</td>\n",
              "      <td>3</td>\n",
              "      <td>6</td>\n",
              "      <td>3.0</td>\n",
              "      <td>4</td>\n",
              "      <td>1</td>\n",
              "      <td>1</td>\n",
              "      <td>0</td>\n",
              "    </tr>\n",
              "    <tr>\n",
              "      <th>801</th>\n",
              "      <td>15731.132897</td>\n",
              "      <td>20484</td>\n",
              "      <td>5</td>\n",
              "      <td>21</td>\n",
              "      <td>L300 Sedan 4D</td>\n",
              "      <td>3</td>\n",
              "      <td>6</td>\n",
              "      <td>3.0</td>\n",
              "      <td>4</td>\n",
              "      <td>1</td>\n",
              "      <td>1</td>\n",
              "      <td>0</td>\n",
              "    </tr>\n",
              "    <tr>\n",
              "      <th>802</th>\n",
              "      <td>15118.893228</td>\n",
              "      <td>25979</td>\n",
              "      <td>5</td>\n",
              "      <td>21</td>\n",
              "      <td>L300 Sedan 4D</td>\n",
              "      <td>3</td>\n",
              "      <td>6</td>\n",
              "      <td>3.0</td>\n",
              "      <td>4</td>\n",
              "      <td>1</td>\n",
              "      <td>1</td>\n",
              "      <td>0</td>\n",
              "    </tr>\n",
              "    <tr>\n",
              "      <th>803</th>\n",
              "      <td>13585.636802</td>\n",
              "      <td>35662</td>\n",
              "      <td>5</td>\n",
              "      <td>21</td>\n",
              "      <td>L300 Sedan 4D</td>\n",
              "      <td>3</td>\n",
              "      <td>6</td>\n",
              "      <td>3.0</td>\n",
              "      <td>4</td>\n",
              "      <td>1</td>\n",
              "      <td>0</td>\n",
              "      <td>0</td>\n",
              "    </tr>\n",
              "  </tbody>\n",
              "</table>\n",
              "<p>804 rows × 12 columns</p>\n",
              "</div>\n",
              "      <button class=\"colab-df-convert\" onclick=\"convertToInteractive('df-9b1cc9aa-e5aa-41e6-8753-a7c2835f04a7')\"\n",
              "              title=\"Convert this dataframe to an interactive table.\"\n",
              "              style=\"display:none;\">\n",
              "        \n",
              "  <svg xmlns=\"http://www.w3.org/2000/svg\" height=\"24px\"viewBox=\"0 0 24 24\"\n",
              "       width=\"24px\">\n",
              "    <path d=\"M0 0h24v24H0V0z\" fill=\"none\"/>\n",
              "    <path d=\"M18.56 5.44l.94 2.06.94-2.06 2.06-.94-2.06-.94-.94-2.06-.94 2.06-2.06.94zm-11 1L8.5 8.5l.94-2.06 2.06-.94-2.06-.94L8.5 2.5l-.94 2.06-2.06.94zm10 10l.94 2.06.94-2.06 2.06-.94-2.06-.94-.94-2.06-.94 2.06-2.06.94z\"/><path d=\"M17.41 7.96l-1.37-1.37c-.4-.4-.92-.59-1.43-.59-.52 0-1.04.2-1.43.59L10.3 9.45l-7.72 7.72c-.78.78-.78 2.05 0 2.83L4 21.41c.39.39.9.59 1.41.59.51 0 1.02-.2 1.41-.59l7.78-7.78 2.81-2.81c.8-.78.8-2.07 0-2.86zM5.41 20L4 18.59l7.72-7.72 1.47 1.35L5.41 20z\"/>\n",
              "  </svg>\n",
              "      </button>\n",
              "      \n",
              "  <style>\n",
              "    .colab-df-container {\n",
              "      display:flex;\n",
              "      flex-wrap:wrap;\n",
              "      gap: 12px;\n",
              "    }\n",
              "\n",
              "    .colab-df-convert {\n",
              "      background-color: #E8F0FE;\n",
              "      border: none;\n",
              "      border-radius: 50%;\n",
              "      cursor: pointer;\n",
              "      display: none;\n",
              "      fill: #1967D2;\n",
              "      height: 32px;\n",
              "      padding: 0 0 0 0;\n",
              "      width: 32px;\n",
              "    }\n",
              "\n",
              "    .colab-df-convert:hover {\n",
              "      background-color: #E2EBFA;\n",
              "      box-shadow: 0px 1px 2px rgba(60, 64, 67, 0.3), 0px 1px 3px 1px rgba(60, 64, 67, 0.15);\n",
              "      fill: #174EA6;\n",
              "    }\n",
              "\n",
              "    [theme=dark] .colab-df-convert {\n",
              "      background-color: #3B4455;\n",
              "      fill: #D2E3FC;\n",
              "    }\n",
              "\n",
              "    [theme=dark] .colab-df-convert:hover {\n",
              "      background-color: #434B5C;\n",
              "      box-shadow: 0px 1px 3px 1px rgba(0, 0, 0, 0.15);\n",
              "      filter: drop-shadow(0px 1px 2px rgba(0, 0, 0, 0.3));\n",
              "      fill: #FFFFFF;\n",
              "    }\n",
              "  </style>\n",
              "\n",
              "      <script>\n",
              "        const buttonEl =\n",
              "          document.querySelector('#df-9b1cc9aa-e5aa-41e6-8753-a7c2835f04a7 button.colab-df-convert');\n",
              "        buttonEl.style.display =\n",
              "          google.colab.kernel.accessAllowed ? 'block' : 'none';\n",
              "\n",
              "        async function convertToInteractive(key) {\n",
              "          const element = document.querySelector('#df-9b1cc9aa-e5aa-41e6-8753-a7c2835f04a7');\n",
              "          const dataTable =\n",
              "            await google.colab.kernel.invokeFunction('convertToInteractive',\n",
              "                                                     [key], {});\n",
              "          if (!dataTable) return;\n",
              "\n",
              "          const docLinkHtml = 'Like what you see? Visit the ' +\n",
              "            '<a target=\"_blank\" href=https://colab.research.google.com/notebooks/data_table.ipynb>data table notebook</a>'\n",
              "            + ' to learn more about interactive tables.';\n",
              "          element.innerHTML = '';\n",
              "          dataTable['output_type'] = 'display_data';\n",
              "          await google.colab.output.renderOutput(dataTable, element);\n",
              "          const docLink = document.createElement('div');\n",
              "          docLink.innerHTML = docLinkHtml;\n",
              "          element.appendChild(docLink);\n",
              "        }\n",
              "      </script>\n",
              "    </div>\n",
              "  </div>\n",
              "  "
            ]
          },
          "metadata": {},
          "execution_count": 38
        }
      ]
    },
    {
      "cell_type": "code",
      "source": [
        "# Taking these seven columns for model building\n",
        "input_cols = ['Mileage','Cylinder','Make','Model','Type','Liter','Doors','Cruise','Sound','Leather']\n",
        "X = df1[input_cols]\n",
        "Y = df1['Price'].values.reshape(-1,1)\n",
        "model1 = LinearRegression()\n",
        "model1.fit(X,Y)\n",
        "print(\"Intercept:{} ,Coefficients:{}\".format(model1.intercept_, model1.coef_))\n",
        "model1.score(X,Y)"
      ],
      "metadata": {
        "colab": {
          "base_uri": "https://localhost:8080/"
        },
        "id": "apQFzEkP76Ya",
        "outputId": "dde03c6b-0621-4966-f9d7-968e0084beff"
      },
      "execution_count": null,
      "outputs": [
        {
          "output_type": "stream",
          "name": "stdout",
          "text": [
            "Intercept:[3039.64350271] ,Coefficients:[[-1.71673657e-01  4.87578755e+03  8.32075788e+02 -2.05034394e+02\n",
            "   4.31124572e+01 -8.92252597e+02 -1.50175555e+03  5.14099964e+03\n",
            "  -1.33287926e+03  2.77089529e+03]]\n"
          ]
        },
        {
          "output_type": "execute_result",
          "data": {
            "text/plain": [
              "0.48569139005488515"
            ]
          },
          "metadata": {},
          "execution_count": 40
        }
      ]
    },
    {
      "cell_type": "code",
      "source": [
        "combos = input_combos(input_cols)"
      ],
      "metadata": {
        "id": "FUBiEc8D8X3W"
      },
      "execution_count": null,
      "outputs": []
    },
    {
      "cell_type": "code",
      "source": [
        "def combo_r2scores( all_combos, df, output='Price'):\n",
        "    combo_scores = {}\n",
        "    for i in range(len(list(all_combos))):\n",
        "        for j in list(all_combos[i]):\n",
        "            X = df[list(j)]\n",
        "            Y = df['Price']\n",
        "            model = LinearRegression().fit(X,Y)\n",
        "            combo_scores[model.score(X,Y)] = j\n",
        "    return combo_scores"
      ],
      "metadata": {
        "id": "_pXO0kqs8yv8"
      },
      "execution_count": null,
      "outputs": []
    },
    {
      "cell_type": "code",
      "source": [
        "output_dict = combo_r2scores(combos,df1,'Price')"
      ],
      "metadata": {
        "id": "HbYDBlhh_7PF"
      },
      "execution_count": null,
      "outputs": []
    },
    {
      "cell_type": "code",
      "source": [
        "max(output_dict)"
      ],
      "metadata": {
        "colab": {
          "base_uri": "https://localhost:8080/"
        },
        "id": "9BaT7-CXAzLC",
        "outputId": "3c092a4f-8d32-45df-9fa4-42feeaedae39"
      },
      "execution_count": null,
      "outputs": [
        {
          "output_type": "execute_result",
          "data": {
            "text/plain": [
              "0.48569139005488515"
            ]
          },
          "metadata": {},
          "execution_count": 69
        }
      ]
    },
    {
      "cell_type": "code",
      "source": [
        "output_dict[0.48569139005488515] #This combination gives the maximum r2_score"
      ],
      "metadata": {
        "colab": {
          "base_uri": "https://localhost:8080/"
        },
        "id": "RX60foZlBC1Y",
        "outputId": "f6142bae-24f8-4fa9-cdd3-b630dc28d9f2"
      },
      "execution_count": null,
      "outputs": [
        {
          "output_type": "execute_result",
          "data": {
            "text/plain": [
              "('Mileage',\n",
              " 'Cylinder',\n",
              " 'Make',\n",
              " 'Model',\n",
              " 'Type',\n",
              " 'Liter',\n",
              " 'Doors',\n",
              " 'Cruise',\n",
              " 'Sound',\n",
              " 'Leather')"
            ]
          },
          "metadata": {},
          "execution_count": 70
        }
      ]
    },
    {
      "cell_type": "markdown",
      "source": [
        "There is no considerable improvement in the model score with label encoding of make,model and type.It just increased from 0.44 to 0.48"
      ],
      "metadata": {
        "id": "bJ-z5Nmbpvw9"
      }
    },
    {
      "cell_type": "code",
      "source": [
        "sns.heatmap(df.corr(), annot=True) #Cylinder and Liter are highly positively correlated"
      ],
      "metadata": {
        "colab": {
          "base_uri": "https://localhost:8080/",
          "height": 318
        },
        "id": "ZhnV4qlODTTn",
        "outputId": "f4bf3dce-ae8e-4b64-e777-249cda6f3173"
      },
      "execution_count": null,
      "outputs": [
        {
          "output_type": "execute_result",
          "data": {
            "text/plain": [
              "<matplotlib.axes._subplots.AxesSubplot at 0x7f0c1e1c9fd0>"
            ]
          },
          "metadata": {},
          "execution_count": 74
        },
        {
          "output_type": "display_data",
          "data": {
            "text/plain": [
              "<Figure size 432x288 with 2 Axes>"
            ],
            "image/png": "[encoded data removed]"
          },
          "metadata": {
            "needs_background": "light"
          }
        }
      ]
    },
    {
      "cell_type": "markdown",
      "source": [
        "##Final"
      ],
      "metadata": {
        "id": "lQO_swr3GLFv"
      }
    },
    {
      "cell_type": "code",
      "source": [
        "df1 = df.copy()"
      ],
      "metadata": {
        "id": "yjM_TyR8FCe0"
      },
      "execution_count": null,
      "outputs": []
    },
    {
      "cell_type": "code",
      "source": [
        "#We have 32 unique categories in the Model field.I think I should do label encoding rather than one-hot encoding\n",
        "df1['Model'] = df1['Model'].astype('category')\n",
        "df1['Model'] = df1['Model'].cat.codes"
      ],
      "metadata": {
        "id": "xqHfxrSkL9T-"
      },
      "execution_count": null,
      "outputs": []
    },
    {
      "cell_type": "code",
      "source": [
        "#One-hot encoding for Make and Type\n",
        "df_dummies = pd.get_dummies(df1, columns = ['Make','Type'])"
      ],
      "metadata": {
        "id": "41zGDKbTGSN8"
      },
      "execution_count": null,
      "outputs": []
    },
    {
      "cell_type": "code",
      "source": [
        "input_cols=['Mileage', 'Cylinder','Liter','Model','Doors', 'Cruise',\n",
        "       'Sound', 'Leather', 'Make_Buick', 'Make_Cadillac', 'Make_Chevrolet',\n",
        "       'Make_Pontiac', 'Make_SAAB', 'Make_Saturn','Type_Convertible', 'Type_Coupe',\n",
        "       'Type_Hatchback', 'Type_Sedan', 'Type_Wagon']"
      ],
      "metadata": {
        "id": "lXK6SGASJuPk"
      },
      "execution_count": null,
      "outputs": []
    },
    {
      "cell_type": "code",
      "source": [
        "X = df_dummies[input_cols]"
      ],
      "metadata": {
        "id": "pb1g-KoRGrwi"
      },
      "execution_count": null,
      "outputs": []
    },
    {
      "cell_type": "code",
      "source": [
        "Y = df['Price'].values.reshape(-1,1)\n",
        "model1 = LinearRegression()\n",
        "model1.fit(X,Y)\n",
        "print(\"Intercept:{} ,Coefficients:{}\".format(model1.intercept_, model1.coef_))\n",
        "model1.score(X,Y)"
      ],
      "metadata": {
        "colab": {
          "base_uri": "https://localhost:8080/"
        },
        "id": "Fk03ZuHAHTV9",
        "outputId": "e70e214a-818a-4b6c-a720-5c7cd07acad3"
      },
      "execution_count": null,
      "outputs": [
        {
          "output_type": "stream",
          "name": "stdout",
          "text": [
            "Intercept:[23377.98090878] ,Coefficients:[[-1.84575188e-01 -1.25812618e+03  5.68575195e+03  5.86830951e+01\n",
            "  -2.09123334e+03  1.81499295e+02  2.05060415e+02  2.89961148e+02\n",
            "  -3.96158031e+03  1.22141649e+04 -5.27969841e+03 -5.52735103e+03\n",
            "   7.75088755e+03 -5.19642271e+03  6.49494131e+03 -5.44932464e+03\n",
            "  -1.57653214e+03 -1.46170953e+03  1.99262500e+03]]\n"
          ]
        },
        {
          "output_type": "execute_result",
          "data": {
            "text/plain": [
              "0.9376502168807379"
            ]
          },
          "metadata": {},
          "execution_count": 23
        }
      ]
    },
    {
      "cell_type": "markdown",
      "source": [
        "Here we get a model r2 score of 0.937 which is good."
      ],
      "metadata": {
        "id": "15cTIumdrCSK"
      }
    },
    {
      "cell_type": "markdown",
      "source": [
        "One last time, I want to try without the label encoded 'Model' field."
      ],
      "metadata": {
        "id": "OcPNIPMzrXVo"
      }
    },
    {
      "cell_type": "code",
      "source": [
        "df_dummies = pd.get_dummies(df1, columns = ['Make','Type'])"
      ],
      "metadata": {
        "id": "ITpWTv_BJKLt"
      },
      "execution_count": null,
      "outputs": []
    },
    {
      "cell_type": "code",
      "source": [
        "input_cols=['Mileage', 'Cylinder','Liter','Doors', 'Cruise',\n",
        "       'Sound', 'Leather', 'Make_Buick', 'Make_Cadillac', 'Make_Chevrolet',\n",
        "       'Make_Pontiac', 'Make_SAAB', 'Make_Saturn','Type_Convertible', 'Type_Coupe',\n",
        "       'Type_Hatchback', 'Type_Sedan', 'Type_Wagon']"
      ],
      "metadata": {
        "id": "83-6-iGgJOFK"
      },
      "execution_count": null,
      "outputs": []
    },
    {
      "cell_type": "code",
      "source": [
        "X = df_dummies[input_cols]"
      ],
      "metadata": {
        "id": "ap7BZje5JfPy"
      },
      "execution_count": null,
      "outputs": []
    },
    {
      "cell_type": "code",
      "source": [
        "from sklearn.linear_model import LinearRegression\n",
        "from sklearn.metrics import r2_score\n",
        "Y = df['Price'].values.reshape(-1,1)\n",
        "model1 = LinearRegression()\n",
        "model1.fit(X,Y)\n",
        "print(\"Intercept:{} ,Coefficients:{}\".format(model1.intercept_, model1.coef_))\n",
        "model1.score(X,Y)"
      ],
      "metadata": {
        "colab": {
          "base_uri": "https://localhost:8080/"
        },
        "id": "bfGyFYsqJklO",
        "outputId": "0459bfee-1aa1-41ea-c74b-2e80e4eb767b"
      },
      "execution_count": null,
      "outputs": [
        {
          "output_type": "stream",
          "name": "stdout",
          "text": [
            "Intercept:[23983.77190962] ,Coefficients:[[-1.84862466e-01 -1.22610774e+03  5.76120797e+03 -2.06693208e+03\n",
            "   1.11145653e+02  2.95622523e+02  2.34258573e+02 -3.58669276e+03\n",
            "   1.22732515e+04 -5.33495094e+03 -5.47974129e+03  6.95098389e+03\n",
            "  -4.82285042e+03  6.52818455e+03 -5.49471851e+03 -1.71994175e+03\n",
            "  -1.69110942e+03  2.37758514e+03]]\n"
          ]
        },
        {
          "output_type": "execute_result",
          "data": {
            "text/plain": [
              "0.9363889951039477"
            ]
          },
          "metadata": {},
          "execution_count": 11
        }
      ]
    },
    {
      "cell_type": "markdown",
      "source": [
        "There is only 0.001 difference in the r2_score if we use \"Model\" field."
      ],
      "metadata": {
        "id": "LyYBDx2YGNYd"
      }
    },
    {
      "cell_type": "markdown",
      "source": [
        "###Conclusion"
      ],
      "metadata": {
        "id": "_aZljGzVl1RU"
      }
    },
    {
      "cell_type": "markdown",
      "source": [
        "The combination of 'Mileage', 'Cylinder','Liter','Doors', 'Cruise','Sound','Leather','Make' and 'Type' is best combination of features for the linear regression model."
      ],
      "metadata": {
        "id": "cWVp1-vckUgy"
      }
    }
  ],
  "metadata": {
    "kernelspec": {
      "display_name": "Python 3",
      "language": "python",
      "name": "python3"
    },
    "language_info": {
      "codemirror_mode": {
        "name": "ipython",
        "version": 3
      },
      "file_extension": ".py",
      "mimetype": "text/x-python",
      "name": "python",
      "nbconvert_exporter": "python",
      "pygments_lexer": "ipython3",
      "version": "3.8.3"
    },
    "colab": {
      "name": "Assignment8_Task6.ipynb",
      "provenance": [],
      "collapsed_sections": [],
      "include_colab_link": true
    }
  },
  "nbformat": 4,
  "nbformat_minor": 0
}